{
 "cells": [
  {
   "cell_type": "markdown",
   "metadata": {},
   "source": [
    "Problem #1 \n",
    "1) How-to-count-distance-to-the-previous-zero For each value, count the difference of the distance from the previous zero (or the start of the Series, whichever is closer) and if there are no previous zeros,print the position Consider a DataFrame df where there is an integer column {'X':[7, 2, 0, 3, 4, 2, 5, 0, 3, 4]} The values should therefore be [1, 2, 0, 1, 2, 3, 4, 0, 1, 2]. Make this a new column 'Y'. import pandas as pd df = pd.DataFrame({'X': [7, 2, 0, 3, 4, 2, 5, 0, 3, 4]})"
   ]
  },
  {
   "cell_type": "code",
   "execution_count": 9,
   "metadata": {},
   "outputs": [
    {
     "name": "stdout",
     "output_type": "stream",
     "text": [
      "   X  Y\n",
      "0  7  1\n",
      "1  2  2\n",
      "2  0  0\n",
      "3  3  1\n",
      "4  4  2\n",
      "5  2  3\n",
      "6  5  4\n",
      "7  0  0\n",
      "8  3  1\n",
      "9  4  2\n"
     ]
    }
   ],
   "source": [
    "import pandas as pd\n",
    "import numpy as np\n",
    "df = pd.DataFrame({'X': [7, 2, 0, 3, 4, 2, 5, 0, 3, 4]})\n",
    "a = df['X'].tolist()\n",
    "z = None\n",
    "b=[]\n",
    "for i in range(len(a)):\n",
    "    if a[i] != 0 and z== None:\n",
    "        b.append(i+1)\n",
    "    elif a[i] == 0:\n",
    "        b.append(0)\n",
    "        z = 0\n",
    "    else:\n",
    "        z += 1\n",
    "        b.append(z)\n",
    "df['Y']=pd.Series(b)\n",
    "\n",
    "print(df)"
   ]
  },
  {
   "cell_type": "markdown",
   "metadata": {},
   "source": [
    "Problem #2 Create a DatetimeIndex that contains each business day of 2015 and use it to index a Series of random numbers."
   ]
  },
  {
   "cell_type": "code",
   "execution_count": 16,
   "metadata": {},
   "outputs": [
    {
     "name": "stdout",
     "output_type": "stream",
     "text": [
      "2015-01-01    0.561999\n",
      "2015-01-02    0.470980\n",
      "2015-01-05    0.226780\n",
      "2015-01-06    0.234442\n",
      "2015-01-07    0.051177\n",
      "2015-01-08    0.556803\n",
      "2015-01-09    0.375041\n",
      "2015-01-12    0.125882\n",
      "2015-01-13    0.169947\n",
      "2015-01-14    0.260838\n",
      "2015-01-15    0.193374\n",
      "2015-01-16    0.790111\n",
      "2015-01-19    0.467621\n",
      "2015-01-20    0.110441\n",
      "2015-01-21    0.658484\n",
      "2015-01-22    0.221650\n",
      "2015-01-23    0.127612\n",
      "2015-01-26    0.395108\n",
      "2015-01-27    0.011395\n",
      "2015-01-28    0.392552\n",
      "2015-01-29    0.158533\n",
      "2015-01-30    0.621304\n",
      "2015-02-02    0.050041\n",
      "2015-02-03    0.344297\n",
      "2015-02-04    0.116293\n",
      "2015-02-05    0.858531\n",
      "2015-02-06    0.404624\n",
      "2015-02-09    0.425001\n",
      "2015-02-10    0.106878\n",
      "2015-02-11    0.771042\n",
      "                ...   \n",
      "2015-11-20    0.752409\n",
      "2015-11-23    0.718880\n",
      "2015-11-24    0.973648\n",
      "2015-11-25    0.087771\n",
      "2015-11-26    0.572874\n",
      "2015-11-27    0.197474\n",
      "2015-11-30    0.326423\n",
      "2015-12-01    0.008306\n",
      "2015-12-02    0.403148\n",
      "2015-12-03    0.072143\n",
      "2015-12-04    0.010718\n",
      "2015-12-07    0.976996\n",
      "2015-12-08    0.539800\n",
      "2015-12-09    0.940902\n",
      "2015-12-10    0.702075\n",
      "2015-12-11    0.437493\n",
      "2015-12-14    0.928114\n",
      "2015-12-15    0.842067\n",
      "2015-12-16    0.721681\n",
      "2015-12-17    0.894694\n",
      "2015-12-18    0.112990\n",
      "2015-12-21    0.833792\n",
      "2015-12-22    0.627076\n",
      "2015-12-23    0.579394\n",
      "2015-12-24    0.263115\n",
      "2015-12-25    0.786078\n",
      "2015-12-28    0.283292\n",
      "2015-12-29    0.416172\n",
      "2015-12-30    0.455058\n",
      "2015-12-31    0.439657\n",
      "Freq: B, Length: 261, dtype: float64\n"
     ]
    }
   ],
   "source": [
    "dti=pd.date_range(start='2015-01-01',end='2015-12-31',freq='B')\n",
    "s=pd.Series(np.random.rand(len(dti)),index=dti)\n",
    "print(s)"
   ]
  },
  {
   "cell_type": "markdown",
   "metadata": {},
   "source": [
    "Problem #3  Find the sum of the values in s for every Wednesday"
   ]
  },
  {
   "cell_type": "code",
   "execution_count": 17,
   "metadata": {},
   "outputs": [
    {
     "data": {
      "text/plain": [
       "23.949973481454816"
      ]
     },
     "execution_count": 17,
     "metadata": {},
     "output_type": "execute_result"
    }
   ],
   "source": [
    "s[dti.weekday==2].sum()"
   ]
  },
  {
   "cell_type": "markdown",
   "metadata": {},
   "source": [
    "Problem #4 Average For each calendar month"
   ]
  },
  {
   "cell_type": "code",
   "execution_count": 18,
   "metadata": {},
   "outputs": [
    {
     "data": {
      "text/plain": [
       "2015-01-31    0.326458\n",
       "2015-02-28    0.449834\n",
       "2015-03-31    0.459675\n",
       "2015-04-30    0.597108\n",
       "2015-05-31    0.409849\n",
       "2015-06-30    0.515842\n",
       "2015-07-31    0.473241\n",
       "2015-08-31    0.493290\n",
       "2015-09-30    0.560005\n",
       "2015-10-31    0.444623\n",
       "2015-11-30    0.542850\n",
       "2015-12-31    0.533685\n",
       "Freq: M, dtype: float64"
      ]
     },
     "execution_count": 18,
     "metadata": {},
     "output_type": "execute_result"
    }
   ],
   "source": [
    "s.resample('M').mean()"
   ]
  },
  {
   "cell_type": "markdown",
   "metadata": {},
   "source": [
    "Problem #5 For each group of four consecutive calendar months in s, find the date on which the highest value occurred."
   ]
  },
  {
   "cell_type": "code",
   "execution_count": 19,
   "metadata": {},
   "outputs": [
    {
     "data": {
      "text/plain": [
       "2015-01-31   2015-01-16\n",
       "2015-05-31   2015-05-12\n",
       "2015-09-30   2015-06-05\n",
       "2016-01-31   2015-12-07\n",
       "dtype: datetime64[ns]"
      ]
     },
     "execution_count": 19,
     "metadata": {},
     "output_type": "execute_result"
    }
   ],
   "source": [
    "s.groupby(pd.Grouper(freq='4M')).idxmax()"
   ]
  },
  {
   "cell_type": "code",
   "execution_count": null,
   "metadata": {},
   "outputs": [],
   "source": []
  }
 ],
 "metadata": {
  "kernelspec": {
   "display_name": "Python 3",
   "language": "python",
   "name": "python3"
  },
  "language_info": {
   "codemirror_mode": {
    "name": "ipython",
    "version": 3
   },
   "file_extension": ".py",
   "mimetype": "text/x-python",
   "name": "python",
   "nbconvert_exporter": "python",
   "pygments_lexer": "ipython3",
   "version": "3.6.4"
  }
 },
 "nbformat": 4,
 "nbformat_minor": 2
}
